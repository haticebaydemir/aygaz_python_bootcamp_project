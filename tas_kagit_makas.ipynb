{
  "nbformat": 4,
  "nbformat_minor": 0,
  "metadata": {
    "colab": {
      "provenance": [],
      "authorship_tag": "ABX9TyNj0M1HXlRtw6A7C1HEbigV",
      "include_colab_link": true
    },
    "kernelspec": {
      "name": "python3",
      "display_name": "Python 3"
    },
    "language_info": {
      "name": "python"
    }
  },
  "cells": [
    {
      "cell_type": "markdown",
      "metadata": {
        "id": "view-in-github",
        "colab_type": "text"
      },
      "source": [
        "<a href=\"https://colab.research.google.com/github/haticebaydemir/tas_kagit_makas/blob/main/tas_kagit_makas.ipynb\" target=\"_parent\"><img src=\"https://colab.research.google.com/assets/colab-badge.svg\" alt=\"Open In Colab\"/></a>"
      ]
    },
    {
      "cell_type": "code",
      "source": [
        "pip install tabulate\n",
        "# Bu kütüphane sonuçları tablo halinde yazdırmak için."
      ],
      "metadata": {
        "id": "gffC6wqC4Jhn"
      },
      "execution_count": null,
      "outputs": []
    },
    {
      "cell_type": "code",
      "source": [
        "import random\n",
        "from tabulate import tabulate\n",
        "\n",
        "def get_computer_choice():\n",
        "    \"\"\"Bilgisayarın rastgele bir seçim yapmasını sağlar.\"\"\"\n",
        "    choices = ['taş', 'kağıt', 'makas']\n",
        "    return random.choice(choices) #Random seçim.\n",
        "\n",
        "def get_user_choice():\n",
        "    \"\"\"Kullanıcının geçerli bir seçim yapmasını sağlar.\"\"\"\n",
        "    choice = input(\"Taş, Kağıt veya Makas seçin: \").lower() # Kullanıcının girdiği seçimi küçük harfe çeviriyoruz. Böylece büyük/küçük harf farkı olmaz.\n",
        "    while choice not in ['taş', 'kağıt', 'makas']:\n",
        "        print(\"Geçersiz seçim. Lütfen Taş, Kağıt veya Makas girin.\") #Geçersiz bir seçim yaparsa, doğru bir seçim yapana kadar kullanıcıya tekrar sorulur.\n",
        "        choice = input(\"Taş, Kağıt veya Makas seçin: \").lower()\n",
        "    return choice\n",
        "\n",
        "def determine_winner(user_choice, computer_choice):\n",
        "    \"\"\"Kullanıcının ve bilgisayarın seçimlerini karşılaştırarak oyunun sonucunu belirler.\"\"\"\n",
        "    if user_choice == computer_choice:\n",
        "        return \"Beraberlik\"\n",
        "    elif (user_choice == 'taş' and computer_choice == 'makas') or \\\n",
        "         (user_choice == 'kağıt' and computer_choice == 'taş') or \\\n",
        "         (user_choice == 'makas' and computer_choice == 'kağıt'): #Taş makası yener, kağıt taşı yener, makas kağıdı yener. Bu kuralları kullanarak sonucu belirleriz.\n",
        "        return \"Kullanıcı kazandı\"\n",
        "    else:\n",
        "        return \"Bilgisayar kazandı\"\n",
        "\n",
        "def play_single_game(round_number):\n",
        "    \"\"\"Tek bir oyunu oynar ve sonucu döndürür.\"\"\"\n",
        "    user_choice = get_user_choice()\n",
        "    computer_choice = get_computer_choice()\n",
        "\n",
        "    print(f\"Bilgisayarın seçimi: {computer_choice.capitalize()}\")\n",
        "\n",
        "    result = determine_winner(user_choice, computer_choice)\n",
        "    print(result)\n",
        "    return round_number, user_choice, computer_choice, result\n",
        "\n",
        "def play_game():\n",
        "    \"\"\"Oyunu birden fazla tur oynar ve genel sonuçları tablo şeklinde gösterir.\"\"\"\n",
        "    print(\"Taş-Kağıt-Makas oyununa hoş geldiniz!\")\n",
        "\n",
        "    rounds = int(input(\"Kaç tur oynamak istersiniz? \"))\n",
        "\n",
        "    game_results = []\n",
        "    user_score = 0\n",
        "    computer_score = 0\n",
        "\n",
        "    for i in range(rounds):\n",
        "        print(f\"\\nTur {i+1}:\")\n",
        "        round_number, user_choice, computer_choice, result = play_single_game(i + 1)\n",
        "\n",
        "        if result == \"Kullanıcı kazandı\":\n",
        "            user_score += 1\n",
        "        elif result == \"Bilgisayar kazandı\":\n",
        "            computer_score += 1\n",
        "\n",
        "        # Oyun sonuçlarını toplama\n",
        "        game_results.append([round_number, user_choice, computer_choice, result])\n",
        "\n",
        "    print(\"\\nOyun Bitti!\")\n",
        "\n",
        "    # Skorları ve oyun sonuçlarını tablo halinde yazdırma\n",
        "    print(f\"\\nKullanıcı Skoru: {user_score}\")\n",
        "    print(f\"Bilgisayar Skoru: {computer_score}\")\n",
        "\n",
        "    if user_score > computer_score:\n",
        "        print(\"Tebrikler, oyunu kazandınız!\")\n",
        "    elif user_score < computer_score:\n",
        "        print(\"Bilgisayar kazandı. Daha şanslı bir sonraki oyunda!\")\n",
        "    else:\n",
        "        print(\"Beraberlik! Yine de iyi oynadınız.\")\n",
        "\n",
        "    # Sonuçları tablo olarak yazdırma\n",
        "    headers = [\"Tur\", \"Kullanıcı Seçimi\", \"Bilgisayar Seçimi\", \"Sonuç\"]\n",
        "    print(\"\\nOyun Sonuçları:\")\n",
        "    print(tabulate(game_results, headers=headers, tablefmt=\"grid\"))\n",
        "\n",
        "if __name__ == \"__main__\":\n",
        "    play_game()\n"
      ],
      "metadata": {
        "colab": {
          "base_uri": "https://localhost:8080/"
        },
        "id": "xsXAhcV25R1S",
        "outputId": "5111436a-f103-45c0-a673-22d06eac4c36"
      },
      "execution_count": null,
      "outputs": [
        {
          "output_type": "stream",
          "name": "stdout",
          "text": [
            "Taş-Kağıt-Makas oyununa hoş geldiniz!\n",
            "Kaç tur oynamak istersiniz? 5\n",
            "\n",
            "Tur 1:\n",
            "Taş, Kağıt veya Makas seçin: makas\n",
            "Bilgisayarın seçimi: Makas\n",
            "Beraberlik\n",
            "\n",
            "Tur 2:\n",
            "Taş, Kağıt veya Makas seçin: taş\n",
            "Bilgisayarın seçimi: Kağıt\n",
            "Bilgisayar kazandı\n",
            "\n",
            "Tur 3:\n",
            "Taş, Kağıt veya Makas seçin: kağıt\n",
            "Bilgisayarın seçimi: Kağıt\n",
            "Beraberlik\n",
            "\n",
            "Tur 4:\n",
            "Taş, Kağıt veya Makas seçin: makas\n",
            "Bilgisayarın seçimi: Kağıt\n",
            "Kullanıcı kazandı\n",
            "\n",
            "Tur 5:\n",
            "Taş, Kağıt veya Makas seçin: taş\n",
            "Bilgisayarın seçimi: Makas\n",
            "Kullanıcı kazandı\n",
            "\n",
            "Oyun Bitti!\n",
            "\n",
            "Kullanıcı Skoru: 2\n",
            "Bilgisayar Skoru: 1\n",
            "Tebrikler, oyunu kazandınız!\n",
            "\n",
            "Oyun Sonuçları:\n",
            "+-------+--------------------+---------------------+--------------------+\n",
            "|   Tur | Kullanıcı Seçimi   | Bilgisayar Seçimi   | Sonuç              |\n",
            "+=======+====================+=====================+====================+\n",
            "|     1 | makas              | makas               | Beraberlik         |\n",
            "+-------+--------------------+---------------------+--------------------+\n",
            "|     2 | taş                | kağıt               | Bilgisayar kazandı |\n",
            "+-------+--------------------+---------------------+--------------------+\n",
            "|     3 | kağıt              | kağıt               | Beraberlik         |\n",
            "+-------+--------------------+---------------------+--------------------+\n",
            "|     4 | makas              | kağıt               | Kullanıcı kazandı  |\n",
            "+-------+--------------------+---------------------+--------------------+\n",
            "|     5 | taş                | makas               | Kullanıcı kazandı  |\n",
            "+-------+--------------------+---------------------+--------------------+\n"
          ]
        }
      ]
    },
    {
      "cell_type": "code",
      "source": [],
      "metadata": {
        "id": "ocX0poFr5U3h"
      },
      "execution_count": null,
      "outputs": []
    }
  ]
}